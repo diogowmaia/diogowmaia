{
  "nbformat": 4,
  "nbformat_minor": 0,
  "metadata": {
    "colab": {
      "provenance": [],
      "authorship_tag": "ABX9TyO11FIJGPM/ROuCyCoEwxj/",
      "include_colab_link": true
    },
    "kernelspec": {
      "name": "python3",
      "display_name": "Python 3"
    },
    "language_info": {
      "name": "python"
    }
  },
  "cells": [
    {
      "cell_type": "markdown",
      "metadata": {
        "id": "view-in-github",
        "colab_type": "text"
      },
      "source": [
        "<a href=\"https://colab.research.google.com/github/diogowmaia/diogowmaia/blob/main/exerc_cio_mod_05.ipynb\" target=\"_parent\"><img src=\"https://colab.research.google.com/assets/colab-badge.svg\" alt=\"Open In Colab\"/></a>"
      ]
    },
    {
      "cell_type": "code",
      "source": [
        "# Utilize o comando 'input' para receber ao menos 2 números de entrada do usuário;\n",
        "# Função para exibir as opções de operação\n",
        "def exibir_opcoes():\n",
        "    print(\"Escolha uma operação:\")\n",
        "    print(\"1 - Soma\")\n",
        "    print(\"2 - Subtração\")\n",
        "    print(\"3 - Multiplicação\")\n",
        "    print(\"4 - Divisão\")\n",
        "    print(\"5 - Sair\")\n",
        "\n",
        "# Laço de repetição para permitir múltiplas operações\n",
        "while True:\n",
        "    # Solicitar números ao usuário\n",
        "    try:\n",
        "        num1 = float(input(\"Digite o primeiro número: \"))\n",
        "        num2 = float(input(\"Digite o segundo número: \"))\n",
        "    except ValueError:\n",
        "        print(\"Por favor, insira números válidos.\")\n",
        "        continue\n",
        "\n",
        "    # Exibir as opções de operação\n",
        "    exibir_opcoes()\n",
        "\n",
        "    # Solicitar a escolha da operação\n",
        "    escolha = input(\"Escolha uma operação (1/2/3/4/5): \")\n",
        "\n",
        "    # Realizar a operação escolhida\n",
        "    if escolha == '1':\n",
        "        resultado = num1 + num2\n",
        "        print(f\"O resultado da soma é: {resultado}\")\n",
        "    elif escolha == '2':\n",
        "        resultado = num1 - num2\n",
        "        print(f\"O resultado da subtração é: {resultado}\")\n",
        "    elif escolha == '3':\n",
        "        resultado = num1 * num2\n",
        "        print(f\"O resultado da multiplicação é: {resultado}\")\n",
        "    elif escolha == '4':\n",
        "        if num2 != 0:\n",
        "            resultado = num1 / num2\n",
        "            print(f\"O resultado da divisão é: {resultado}\")\n",
        "        else:\n",
        "            print(\"Erro: Não é possível dividir por zero.\")\n",
        "    elif escolha == '5':\n",
        "        print(\"Saindo do programa...\")\n",
        "        break\n",
        "    else:\n",
        "        print(\"Opção inválida. Por favor, escolha uma opção entre 1 e 5.\")\n",
        "\n",
        "    # Perguntar se o usuário deseja realizar outra operação\n",
        "    continuar = input(\"Deseja realizar outra operação? (s/n): \")\n",
        "    if continuar.lower() != 's':\n",
        "        print(\"Saindo do programa...\")\n",
        "        break\n",
        "\n"
      ],
      "metadata": {
        "colab": {
          "base_uri": "https://localhost:8080/"
        },
        "id": "CYbtQI0On8Ox",
        "outputId": "b07f51e8-5c53-48b8-a392-07928d9462cf"
      },
      "execution_count": null,
      "outputs": [
        {
          "output_type": "stream",
          "name": "stdout",
          "text": [
            "Digite o primeiro número: 20\n",
            "Digite o segundo número: 33\n",
            "Escolha uma operação:\n",
            "1 - Soma\n",
            "2 - Subtração\n",
            "3 - Multiplicação\n",
            "4 - Divisão\n",
            "5 - Sair\n",
            "Escolha uma operação (1/2/3/4/5): 3\n",
            "O resultado da multiplicação é: 660.0\n",
            "Deseja realizar outra operação? (s/n): n\n",
            "Saindo do programa...\n"
          ]
        }
      ]
    }
  ]
}